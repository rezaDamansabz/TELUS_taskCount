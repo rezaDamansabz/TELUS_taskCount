{
 "cells": [
  {
   "cell_type": "markdown",
   "id": "0c3ce0dd-8b1c-40ec-9fa8-04154f38c587",
   "metadata": {},
   "source": [
    "# The task counts and calculations of the next month payments"
   ]
  },
  {
   "cell_type": "code",
   "execution_count": 20,
   "id": "12ff9f48-4a6b-4006-8c87-e05d7f37b9e8",
   "metadata": {},
   "outputs": [],
   "source": [
    "# Importing libraries and packages\n",
    "import requests\n",
    "import numpy as np\n",
    "from bs4 import BeautifulSoup\n",
    "import pandas as pd"
   ]
  },
  {
   "cell_type": "code",
   "execution_count": 22,
   "id": "16104845-3849-4fa3-9962-22d356423fe2",
   "metadata": {},
   "outputs": [
    {
     "name": "stdout",
     "output_type": "stream",
     "text": [
      "Opening browser...\n",
      "Waiting for tables to load...\n",
      "Extracting page source...\n",
      "Found 2 tables:\n",
      "Table 0: ctl00_ctl43_g_b5552829_fb25_4f4f_9fc6_b4e1ac0c59fd_gvTasks\n",
      "Table 1: ctl00_ctl43_g_c2b46f33_ab26_4033_9f24_03936ae19b84_gvTasks\n",
      "Table 2: Extracted 11 rows.\n"
     ]
    }
   ],
   "source": [
    "from selenium import webdriver\n",
    "from selenium.webdriver.common.by import By\n",
    "from selenium.webdriver.support.ui import WebDriverWait\n",
    "from selenium.webdriver.support import expected_conditions as EC\n",
    "from bs4 import BeautifulSoup\n",
    "import time\n",
    "\n",
    "# Initialize WebDriver\n",
    "driver = webdriver.Chrome()  # Add path to ChromeDriver if necessary\n",
    "try:\n",
    "    print(\"Opening browser...\")\n",
    "    driver.get(\"https://geoworkerz.telusinternational.ai/mapping/Timesheet/Pages/TaskCounts.aspx\")\n",
    "\n",
    "\n",
    "    # Wait for the page to load\n",
    "    print(\"Waiting for tables to load...\")\n",
    "    WebDriverWait(driver, 60).until(EC.presence_of_element_located((By.TAG_NAME, \"table\")))\n",
    "\n",
    "    # Extract HTML\n",
    "    print(\"Extracting page source...\")\n",
    "    html = driver.page_source\n",
    "    soup = BeautifulSoup(html, 'html.parser')\n",
    "\n",
    "    # Find tables\n",
    "    tables = soup.find_all('table')\n",
    "    if tables:\n",
    "        print(f\"Found {len(tables)} tables:\")\n",
    "        for i, table in enumerate(tables):\n",
    "            print(f\"Table {i}: {table.get('id')}\")\n",
    "    else:\n",
    "        print(\"No tables found.\")\n",
    "\n",
    "    dataframes = []\n",
    "    for i, table in enumerate(tables[1:], start=2):  # Start from the second table\n",
    "            rows = table.find_all('tr')\n",
    "            table_data = []\n",
    "            for row in rows:\n",
    "                # Extract all cells (both <th> and <td>)\n",
    "                cells = [cell.get_text(strip=True) for cell in row.find_all(['th', 'td'])]\n",
    "                table_data.append(cells)\n",
    "\n",
    "            # Convert to DataFrame\n",
    "            df = pd.DataFrame(table_data)\n",
    "            print(f\"Table {i}: Extracted {len(df)} rows.\")\n",
    "            dataframes.append(df)\n",
    "\n",
    "\n",
    "            # Save to a CSV file\n",
    "            df.to_csv(\"January.csv\", index=False, header=False)\n",
    "    \n",
    "finally:\n",
    "    driver.quit()"
   ]
  },
  {
   "cell_type": "code",
   "execution_count": 24,
   "id": "68981070-3c32-43b9-ab47-2d0bbab5cabe",
   "metadata": {},
   "outputs": [
    {
     "name": "stdout",
     "output_type": "stream",
     "text": [
      "                              Task Type Allocated Time  Total Surveys Rated\n",
      "0                      Audio Evaluation           180s                    4\n",
      "1                 Audio File Comparison            60s                   56\n",
      "2                 Audio File Comparison           180s                   66\n",
      "3                     Fact Verification           240s                    7\n",
      "4         Image to Caption Verification            60s                    1\n",
      "5         Image to Caption Verification           300s                   21\n",
      "6         Image to Caption Verification           650s                   15\n",
      "7  Paired Images Attribute Verification           150s                    2\n",
      "8             Photo Search Satisfaction           150s                   22\n",
      "9                              sba_eval           200s                  127\n"
     ]
    }
   ],
   "source": [
    "jt = []\n",
    "jt = pd.read_csv('January.csv')\n",
    "print(jt)"
   ]
  },
  {
   "cell_type": "code",
   "execution_count": 26,
   "id": "d4a86c2a-9fbc-4fd9-b2d0-0cff025ca9c1",
   "metadata": {},
   "outputs": [
    {
     "name": "stdout",
     "output_type": "stream",
     "text": [
      "                              Task Type  Allocated Time  Total Surveys Rated\n",
      "0                      Audio Evaluation             180                    4\n",
      "1                 Audio File Comparison              60                   56\n",
      "2                 Audio File Comparison             180                   66\n",
      "3                     Fact Verification             240                    7\n",
      "4         Image to Caption Verification              60                    1\n",
      "5         Image to Caption Verification             300                   21\n",
      "6         Image to Caption Verification             650                   15\n",
      "7  Paired Images Attribute Verification             150                    2\n",
      "8             Photo Search Satisfaction             150                   22\n",
      "9                              sba_eval             200                  127\n"
     ]
    }
   ],
   "source": [
    "# Changing the data type from string to integer\n",
    "jt['Allocated Time'] = jt['Allocated Time'].str.replace('s', '').astype(int)\n",
    "\n",
    "print(jt)"
   ]
  },
  {
   "cell_type": "code",
   "execution_count": 28,
   "id": "7deb1772-6b86-46f0-873e-97bdf957736f",
   "metadata": {},
   "outputs": [
    {
     "name": "stdout",
     "output_type": "stream",
     "text": [
      "   Allocated Time  Total Surveys Rated  Total seconds  Task Payment (US$)\n",
      "0             180                    4            720                3.12\n",
      "1              60                   56           3360               14.56\n",
      "2             180                   66          11880               51.48\n",
      "3             240                    7           1680                7.28\n",
      "4              60                    1             60                0.26\n",
      "5             300                   21           6300               27.30\n",
      "6             650                   15           9750               42.25\n",
      "7             150                    2            300                1.30\n",
      "8             150                   22           3300               14.30\n",
      "9             200                  127          25400              110.07\n"
     ]
    }
   ],
   "source": [
    "# Calculating the payment\n",
    "\n",
    "jt['Total seconds'] = jt['Allocated Time'] * jt['Total Surveys Rated']\n",
    "jt['Task Payment (US$)'] = jt['Total seconds']/60*0.26\n",
    "jt['Task Payment (US$)'] = jt['Task Payment (US$)'].round(2)\n",
    "jt_selected = jt.iloc[:, 1:]\n",
    "print(jt_selected)"
   ]
  },
  {
   "cell_type": "code",
   "execution_count": 30,
   "id": "92f2f22f-4d6f-4bd3-9f3e-8886beba624a",
   "metadata": {},
   "outputs": [],
   "source": [
    "# Adding the Total row\n",
    "jt.iloc[-1,0 ] = 'Total'"
   ]
  },
  {
   "cell_type": "code",
   "execution_count": 32,
   "id": "11142714-ef25-4188-ad94-35575baffba6",
   "metadata": {},
   "outputs": [
    {
     "data": {
      "text/html": [
       "<div>\n",
       "<style scoped>\n",
       "    .dataframe tbody tr th:only-of-type {\n",
       "        vertical-align: middle;\n",
       "    }\n",
       "\n",
       "    .dataframe tbody tr th {\n",
       "        vertical-align: top;\n",
       "    }\n",
       "\n",
       "    .dataframe thead th {\n",
       "        text-align: right;\n",
       "    }\n",
       "</style>\n",
       "<table border=\"1\" class=\"dataframe\">\n",
       "  <thead>\n",
       "    <tr style=\"text-align: right;\">\n",
       "      <th></th>\n",
       "      <th>Task Type</th>\n",
       "      <th>Allocated Time</th>\n",
       "      <th>Total Surveys Rated</th>\n",
       "      <th>Total seconds</th>\n",
       "      <th>Task Payment (US$)</th>\n",
       "    </tr>\n",
       "  </thead>\n",
       "  <tbody>\n",
       "    <tr>\n",
       "      <th>0</th>\n",
       "      <td>Audio Evaluation</td>\n",
       "      <td>180.0</td>\n",
       "      <td>4</td>\n",
       "      <td>720</td>\n",
       "      <td>3.12</td>\n",
       "    </tr>\n",
       "    <tr>\n",
       "      <th>1</th>\n",
       "      <td>Audio File Comparison</td>\n",
       "      <td>60.0</td>\n",
       "      <td>56</td>\n",
       "      <td>3360</td>\n",
       "      <td>14.56</td>\n",
       "    </tr>\n",
       "    <tr>\n",
       "      <th>2</th>\n",
       "      <td>Audio File Comparison</td>\n",
       "      <td>180.0</td>\n",
       "      <td>66</td>\n",
       "      <td>11880</td>\n",
       "      <td>51.48</td>\n",
       "    </tr>\n",
       "    <tr>\n",
       "      <th>3</th>\n",
       "      <td>Fact Verification</td>\n",
       "      <td>240.0</td>\n",
       "      <td>7</td>\n",
       "      <td>1680</td>\n",
       "      <td>7.28</td>\n",
       "    </tr>\n",
       "    <tr>\n",
       "      <th>4</th>\n",
       "      <td>Image to Caption Verification</td>\n",
       "      <td>60.0</td>\n",
       "      <td>1</td>\n",
       "      <td>60</td>\n",
       "      <td>0.26</td>\n",
       "    </tr>\n",
       "    <tr>\n",
       "      <th>5</th>\n",
       "      <td>Image to Caption Verification</td>\n",
       "      <td>300.0</td>\n",
       "      <td>21</td>\n",
       "      <td>6300</td>\n",
       "      <td>27.30</td>\n",
       "    </tr>\n",
       "    <tr>\n",
       "      <th>6</th>\n",
       "      <td>Image to Caption Verification</td>\n",
       "      <td>650.0</td>\n",
       "      <td>15</td>\n",
       "      <td>9750</td>\n",
       "      <td>42.25</td>\n",
       "    </tr>\n",
       "    <tr>\n",
       "      <th>7</th>\n",
       "      <td>Paired Images Attribute Verification</td>\n",
       "      <td>150.0</td>\n",
       "      <td>2</td>\n",
       "      <td>300</td>\n",
       "      <td>1.30</td>\n",
       "    </tr>\n",
       "    <tr>\n",
       "      <th>8</th>\n",
       "      <td>Photo Search Satisfaction</td>\n",
       "      <td>150.0</td>\n",
       "      <td>22</td>\n",
       "      <td>3300</td>\n",
       "      <td>14.30</td>\n",
       "    </tr>\n",
       "    <tr>\n",
       "      <th>9</th>\n",
       "      <td>Total</td>\n",
       "      <td>NaN</td>\n",
       "      <td>321</td>\n",
       "      <td>62750</td>\n",
       "      <td>271.92</td>\n",
       "    </tr>\n",
       "  </tbody>\n",
       "</table>\n",
       "</div>"
      ],
      "text/plain": [
       "                              Task Type  Allocated Time  Total Surveys Rated  \\\n",
       "0                      Audio Evaluation           180.0                    4   \n",
       "1                 Audio File Comparison            60.0                   56   \n",
       "2                 Audio File Comparison           180.0                   66   \n",
       "3                     Fact Verification           240.0                    7   \n",
       "4         Image to Caption Verification            60.0                    1   \n",
       "5         Image to Caption Verification           300.0                   21   \n",
       "6         Image to Caption Verification           650.0                   15   \n",
       "7  Paired Images Attribute Verification           150.0                    2   \n",
       "8             Photo Search Satisfaction           150.0                   22   \n",
       "9                                 Total             NaN                  321   \n",
       "\n",
       "   Total seconds  Task Payment (US$)  \n",
       "0            720                3.12  \n",
       "1           3360               14.56  \n",
       "2          11880               51.48  \n",
       "3           1680                7.28  \n",
       "4             60                0.26  \n",
       "5           6300               27.30  \n",
       "6           9750               42.25  \n",
       "7            300                1.30  \n",
       "8           3300               14.30  \n",
       "9          62750              271.92  "
      ]
     },
     "execution_count": 32,
     "metadata": {},
     "output_type": "execute_result"
    }
   ],
   "source": [
    "# Calculating the summation of the columns\n",
    "jt.iloc[1:, 2:5] = jt.iloc[1:, 2:5].astype(float)\n",
    "jt.iloc[-1,1] = np.nan\n",
    "for col in jt.columns[2:]:  # Skip the first two column \n",
    "    jt.loc[jt.index[-1], col] = jt[col].sum()\n",
    "jt"
   ]
  },
  {
   "cell_type": "code",
   "execution_count": 34,
   "id": "56ad26a1-4d6b-41c5-ab43-69385a7c913e",
   "metadata": {},
   "outputs": [
    {
     "name": "stdout",
     "output_type": "stream",
     "text": [
      "the total payment of this month is : 271.92 $ = 380.688 CAD\n"
     ]
    }
   ],
   "source": [
    "print(f'the total payment of this month is : {jt.iloc[-1,-1]} $ = {jt.iloc[-1,-1]*1.4} CAD')"
   ]
  },
  {
   "cell_type": "code",
   "execution_count": null,
   "id": "ca153ce9-7f9d-4d1d-a38b-3c71c336fa8d",
   "metadata": {},
   "outputs": [],
   "source": []
  }
 ],
 "metadata": {
  "kernelspec": {
   "display_name": "Python [conda env:base] *",
   "language": "python",
   "name": "conda-base-py"
  },
  "language_info": {
   "codemirror_mode": {
    "name": "ipython",
    "version": 3
   },
   "file_extension": ".py",
   "mimetype": "text/x-python",
   "name": "python",
   "nbconvert_exporter": "python",
   "pygments_lexer": "ipython3",
   "version": "3.12.7"
  }
 },
 "nbformat": 4,
 "nbformat_minor": 5
}
